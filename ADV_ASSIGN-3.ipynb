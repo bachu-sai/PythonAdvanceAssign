{
 "cells": [
  {
   "cell_type": "code",
   "execution_count": null,
   "id": "3cb988e4",
   "metadata": {},
   "outputs": [],
   "source": [
    "1. What is the concept of an abstract superclass?\n",
    "\n",
    "A class is called an Abstract class if it contains one or more abstract methods. An abstract method is a method that is declared, but contains no implementation. Abstract classes may not be instantiated, and its abstract methods must be implemented by its subclasses."
   ]
  },
  {
   "cell_type": "code",
   "execution_count": null,
   "id": "f0aa9873",
   "metadata": {},
   "outputs": [],
   "source": [
    "2. What happens when a class statement top level contains a basic assignment statement?\n",
    "\n",
    "A basic assignment statement is considered as class variable it can be acessed using class name"
   ]
  },
  {
   "cell_type": "code",
   "execution_count": null,
   "id": "c9f5d60d",
   "metadata": {},
   "outputs": [],
   "source": [
    "3. Why does a class need to manually call a superclass __init__ method?\n",
    "\n",
    "In multiple inheritance to have inherited variables in child class we use superclass __init__ method"
   ]
  },
  {
   "cell_type": "code",
   "execution_count": null,
   "id": "c5109ce4",
   "metadata": {},
   "outputs": [],
   "source": [
    "4. How can you augment, instead of completely replacing, an inherited method?\n",
    "\n",
    "Redefine it in subclass but call back to superclass version of the method manually from the new version of the method in the subclass"
   ]
  },
  {
   "cell_type": "code",
   "execution_count": null,
   "id": "459bcde6",
   "metadata": {},
   "outputs": [],
   "source": [
    "5. How is the local scope of a class different from that of a function?\n",
    "\n",
    "Local scope is the area between an { and its closing }. Function scope is the area between the opening { of a function and its closing }, which may contain more \"local\" scopes."
   ]
  }
 ],
 "metadata": {
  "kernelspec": {
   "display_name": "Python 3 (ipykernel)",
   "language": "python",
   "name": "python3"
  },
  "language_info": {
   "codemirror_mode": {
    "name": "ipython",
    "version": 3
   },
   "file_extension": ".py",
   "mimetype": "text/x-python",
   "name": "python",
   "nbconvert_exporter": "python",
   "pygments_lexer": "ipython3",
   "version": "3.9.7"
  }
 },
 "nbformat": 4,
 "nbformat_minor": 5
}
