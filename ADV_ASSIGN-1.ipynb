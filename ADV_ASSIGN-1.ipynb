{
 "cells": [
  {
   "cell_type": "code",
   "execution_count": null,
   "id": "2051c4ec",
   "metadata": {},
   "outputs": [],
   "source": [
    "Q1. What is the purpose of Python OOP?\n",
    "\n",
    "The main aim of OOP is to bind together the data and the functions that operate on them so that no other part of the code can access this data except that function."
   ]
  },
  {
   "cell_type": "code",
   "execution_count": null,
   "id": "14639454",
   "metadata": {},
   "outputs": [],
   "source": [
    "Q2. Where does an inheritance search look for an attribute?\n",
    "\n",
    "The inheritance search is simply a search of the tree from bottom to top looking for the lowest occurrence of an attribute name."
   ]
  },
  {
   "cell_type": "code",
   "execution_count": null,
   "id": "e08b4437",
   "metadata": {},
   "outputs": [],
   "source": [
    "Q3. How do you distinguish between a class object and an instance object?\n",
    "\n",
    "class object is nothing but static variables and instance object can be many \n",
    "class object is preapred when class is prepared\n",
    "instance object is prepared when class name followed by paranthesis"
   ]
  },
  {
   "cell_type": "code",
   "execution_count": null,
   "id": "5cf6a912",
   "metadata": {},
   "outputs": [],
   "source": [
    "Q4. What makes the first argument in a class method function special?\n",
    "\n",
    "The first argument of every class method, including init, is always a reference to the current instance of the class. By convention, this argument is always named self."
   ]
  },
  {
   "cell_type": "code",
   "execution_count": null,
   "id": "824806f9",
   "metadata": {},
   "outputs": [],
   "source": [
    "Q5. What is the purpose of the __init__ method?\n",
    "\n",
    "The __init__ method is similar to constructors in Java.Constructors are used to initialize the object state"
   ]
  },
  {
   "cell_type": "code",
   "execution_count": null,
   "id": "39abd1ba",
   "metadata": {},
   "outputs": [],
   "source": [
    "Q6. What is the process for creating a class instance?\n",
    "To create instances of a class, you call the class using class name and pass in whatever arguments its __init__ method accepts."
   ]
  },
  {
   "cell_type": "code",
   "execution_count": null,
   "id": "762e395d",
   "metadata": {},
   "outputs": [],
   "source": [
    "Q7. What is the process for creating a class?\n",
    "\n",
    "class keyword followed by class name"
   ]
  },
  {
   "cell_type": "code",
   "execution_count": null,
   "id": "f6ea05e1",
   "metadata": {},
   "outputs": [],
   "source": [
    "Q8. How would you define the superclasses of a class?\n",
    "\n",
    "The class from which a class inherits is called the parent or superclass. A class which inherits from a superclass is called a subclass, also called heir class or child class."
   ]
  }
 ],
 "metadata": {
  "kernelspec": {
   "display_name": "Python 3 (ipykernel)",
   "language": "python",
   "name": "python3"
  },
  "language_info": {
   "codemirror_mode": {
    "name": "ipython",
    "version": 3
   },
   "file_extension": ".py",
   "mimetype": "text/x-python",
   "name": "python",
   "nbconvert_exporter": "python",
   "pygments_lexer": "ipython3",
   "version": "3.9.7"
  }
 },
 "nbformat": 4,
 "nbformat_minor": 5
}
