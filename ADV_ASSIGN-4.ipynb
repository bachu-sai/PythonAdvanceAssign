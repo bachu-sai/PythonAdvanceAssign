{
 "cells": [
  {
   "cell_type": "code",
   "execution_count": null,
   "id": "c1e4d3dc",
   "metadata": {},
   "outputs": [],
   "source": [
    "Q1. Which two operator overloading methods can you use in your classes to support iteration?\n",
    "\n",
    "The __iter__ returns the iterator object and is implicitly called at the start of loops. The __next__ method returns the next value and is implicitly called at each loop increment."
   ]
  },
  {
   "cell_type": "code",
   "execution_count": null,
   "id": "682daeda",
   "metadata": {},
   "outputs": [],
   "source": [
    "Q2. In what contexts do the two operator overloading methods manage printing?\n",
    "\n",
    "__iter__ implicitly called at the start of loops.__next__ raises a StopIteration exception when there are no more value to return, which is implicitly captured by looping constructs to stop iterating."
   ]
  },
  {
   "cell_type": "code",
   "execution_count": null,
   "id": "c572416c",
   "metadata": {},
   "outputs": [],
   "source": [
    "Q3. In a class, how do you intercept slice operations?\n",
    "\n",
    "The __getitem__ method is used for accessing list items, array elements, dictionary entries etc. slice is a constructor in Python that creates slice object to represent set of indices that the range(start, stop, step) specifies. __getitem__ method can be implement in a class, and the behavior of slicing can be defined inside it."
   ]
  },
  {
   "cell_type": "code",
   "execution_count": null,
   "id": "06e85528",
   "metadata": {},
   "outputs": [],
   "source": [
    "Q4. In a class, how do you capture in-place addition?\n",
    "\n",
    "iadd() :- This function is used to assign and add the current value. This operation does “a+=b” operation.\n",
    "isub() :- This function is used to assign and subtract the current value. This operation does “a-=b” operation. \n",
    "imul() :- This function is used to assign and multiply the current value. This operation does “a*=b” operation. \n",
    "itruediv() :- This function is used to assign and divide the current value. This operation does “a/=b” operation.\n",
    "imod() :- This function is used to assign and return remainder . This operation does “a%=b” operation."
   ]
  },
  {
   "cell_type": "code",
   "execution_count": null,
   "id": "20af1e5a",
   "metadata": {},
   "outputs": [],
   "source": [
    "Q5. When is it appropriate to use operator overloading?\n",
    "\n",
    "The purpose of operator overloading is to provide a special meaning of an operator for a user-defined data type. With the help of operator overloading, you can redefine the majority of the  operators. "
   ]
  },
  {
   "cell_type": "code",
   "execution_count": null,
   "id": "0da3c38f",
   "metadata": {},
   "outputs": [],
   "source": []
  }
 ],
 "metadata": {
  "kernelspec": {
   "display_name": "Python 3 (ipykernel)",
   "language": "python",
   "name": "python3"
  },
  "language_info": {
   "codemirror_mode": {
    "name": "ipython",
    "version": 3
   },
   "file_extension": ".py",
   "mimetype": "text/x-python",
   "name": "python",
   "nbconvert_exporter": "python",
   "pygments_lexer": "ipython3",
   "version": "3.9.7"
  }
 },
 "nbformat": 4,
 "nbformat_minor": 5
}
