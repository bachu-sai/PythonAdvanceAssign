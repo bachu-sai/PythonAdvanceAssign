{
 "cells": [
  {
   "cell_type": "code",
   "execution_count": null,
   "id": "1e86e495",
   "metadata": {},
   "outputs": [],
   "source": [
    "1. What is the purpose of the try statement?\n",
    "\n",
    "The try statement allows you to define a block of code to be tested for errors while it is being executed. "
   ]
  },
  {
   "cell_type": "code",
   "execution_count": null,
   "id": "3961ffa3",
   "metadata": {},
   "outputs": [],
   "source": [
    "2. What are the two most popular try statement variations?\n",
    "\n",
    "Error in Python can be of two types i.e. Syntax errors and Exceptions. Errors are the problems in a program due to which the program will stop the execution."
   ]
  },
  {
   "cell_type": "code",
   "execution_count": null,
   "id": "13247025",
   "metadata": {},
   "outputs": [],
   "source": [
    "3. What is the purpose of the raise statement?\n",
    "\n",
    "The raise keyword raises an error and stops the control flow of the program. It is used to bring up the current exception in an exception handler so that it can be handled further up the call stack."
   ]
  },
  {
   "cell_type": "code",
   "execution_count": null,
   "id": "b98c7bc5",
   "metadata": {},
   "outputs": [],
   "source": [
    "4. What does the assert statement do, and what other statement is it like?\n",
    "\n",
    "In Python, the assert statement is used to continue the execute if the given condition evaluates to True. If the assert condition evaluates to False, then it raises the AssertionError exception with the specified error message.\n",
    "A custom exception that I want to call in 2 different ways (a if/else statement, and a try/except statement). "
   ]
  },
  {
   "cell_type": "code",
   "execution_count": null,
   "id": "aa2c5e5a",
   "metadata": {},
   "outputs": [],
   "source": [
    "5. What is the purpose of the with/as argument, and what other statement is it like?\n",
    "\n",
    "with statement in Python is used in exception handling to make the code cleaner and much more readable. It simplifies the management of common resources like file streams. "
   ]
  }
 ],
 "metadata": {
  "kernelspec": {
   "display_name": "Python 3 (ipykernel)",
   "language": "python",
   "name": "python3"
  },
  "language_info": {
   "codemirror_mode": {
    "name": "ipython",
    "version": 3
   },
   "file_extension": ".py",
   "mimetype": "text/x-python",
   "name": "python",
   "nbconvert_exporter": "python",
   "pygments_lexer": "ipython3",
   "version": "3.9.7"
  }
 },
 "nbformat": 4,
 "nbformat_minor": 5
}
