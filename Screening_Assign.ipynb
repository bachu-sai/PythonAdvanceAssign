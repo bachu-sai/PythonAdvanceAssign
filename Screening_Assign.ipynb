{
 "cells": [
  {
   "cell_type": "markdown",
   "id": "9c69cbd5",
   "metadata": {},
   "source": [
    "1. Create a function in python to read the text file and replace specific content of the file."
   ]
  },
  {
   "cell_type": "code",
   "execution_count": 151,
   "id": "1c3c52da",
   "metadata": {},
   "outputs": [],
   "source": [
    "f=open('example.txt','w')"
   ]
  },
  {
   "cell_type": "code",
   "execution_count": 152,
   "id": "9fe2fd86",
   "metadata": {},
   "outputs": [
    {
     "data": {
      "text/plain": [
       "30"
      ]
     },
     "execution_count": 152,
     "metadata": {},
     "output_type": "execute_result"
    }
   ],
   "source": [
    "f.write('This is a placement assignment')"
   ]
  },
  {
   "cell_type": "code",
   "execution_count": 153,
   "id": "48bcd979",
   "metadata": {},
   "outputs": [],
   "source": [
    "f.close()"
   ]
  },
  {
   "cell_type": "code",
   "execution_count": 154,
   "id": "76997e31",
   "metadata": {},
   "outputs": [],
   "source": [
    "f = open(\"example.txt\", \"r+\")"
   ]
  },
  {
   "cell_type": "code",
   "execution_count": 155,
   "id": "90cbadcf",
   "metadata": {},
   "outputs": [],
   "source": [
    "l = f.readlines()"
   ]
  },
  {
   "cell_type": "code",
   "execution_count": 156,
   "id": "aac6083f",
   "metadata": {},
   "outputs": [
    {
     "data": {
      "text/plain": [
       "['This is a placement assignment']"
      ]
     },
     "execution_count": 156,
     "metadata": {},
     "output_type": "execute_result"
    }
   ],
   "source": [
    "l"
   ]
  },
  {
   "cell_type": "code",
   "execution_count": 157,
   "id": "cad0dd05",
   "metadata": {},
   "outputs": [],
   "source": [
    "x='placement'\n",
    "y='screening'\n",
    "for i in l:\n",
    "    if x in i:\n",
    "        st=i.replace(x,y)\n",
    "    "
   ]
  },
  {
   "cell_type": "code",
   "execution_count": 164,
   "id": "7bee0c42",
   "metadata": {},
   "outputs": [],
   "source": [
    "f.write(st)\n",
    "f.close()"
   ]
  },
  {
   "cell_type": "code",
   "execution_count": 165,
   "id": "eae45485",
   "metadata": {},
   "outputs": [],
   "source": [
    "f = open(\"example.txt\", \"r+\") "
   ]
  },
  {
   "cell_type": "code",
   "execution_count": 166,
   "id": "b91fbb20",
   "metadata": {},
   "outputs": [
    {
     "data": {
      "text/plain": [
       "['This is a screening assignment']"
      ]
     },
     "execution_count": 166,
     "metadata": {},
     "output_type": "execute_result"
    }
   ],
   "source": [
    "f.readlines()"
   ]
  },
  {
   "cell_type": "markdown",
   "id": "ff7ed350",
   "metadata": {},
   "source": [
    "2. Demonstrate use of abstract class, multiple inheritance and decorator in python using examples."
   ]
  },
  {
   "cell_type": "code",
   "execution_count": null,
   "id": "b0df3e5b",
   "metadata": {},
   "outputs": [],
   "source": [
    "#Abstract Class\n",
    "class Polygon(ABC):\n",
    "    def noofsides(self):\n",
    "        pass\n",
    "class Triangle(Polygon):\n",
    "    def noofsides(self):\n",
    "        print(\"I have 3 sides\")\n",
    "class Pentagon(Polygon):\n",
    "    def noofsides(self):\n",
    "        print(\"I have 5 sides\")\n",
    "T = Triangle()\n",
    "T.noofsides()\n",
    " \n",
    "K = Quadrilateral()\n",
    "K.noofsides()\n",
    " \n",
    "R = Pentagon()\n",
    "R.noofsides()"
   ]
  },
  {
   "cell_type": "code",
   "execution_count": null,
   "id": "33ac1b96",
   "metadata": {},
   "outputs": [],
   "source": [
    "#Multiple Inheritance\n",
    "class Class1:\n",
    "    def m(self):\n",
    "        print(\"In Class1\")\n",
    "class Class2(Class1):\n",
    "    def m(self):\n",
    "        print(\"In Class2\")\n",
    "class Class3(Class1):\n",
    "    def m(self):\n",
    "        print(\"In Class3\") \n",
    "class Class4(Class2, Class3):\n",
    "    pass  \n",
    "     \n",
    "obj = Class4()\n",
    "obj.m()"
   ]
  },
  {
   "cell_type": "code",
   "execution_count": null,
   "id": "cb4bee9f",
   "metadata": {},
   "outputs": [],
   "source": [
    "#Decorators\n",
    "def shout(text):\n",
    "    return text.upper()\n",
    " \n",
    "print(shout('Hello'))\n",
    " \n",
    "yell = shout\n",
    " \n",
    "print(yell('Hello'))"
   ]
  },
  {
   "cell_type": "code",
   "execution_count": null,
   "id": "05d4f319",
   "metadata": {},
   "outputs": [],
   "source": []
  },
  {
   "cell_type": "code",
   "execution_count": null,
   "id": "05206ae4",
   "metadata": {},
   "outputs": [],
   "source": []
  }
 ],
 "metadata": {
  "kernelspec": {
   "display_name": "Python 3 (ipykernel)",
   "language": "python",
   "name": "python3"
  },
  "language_info": {
   "codemirror_mode": {
    "name": "ipython",
    "version": 3
   },
   "file_extension": ".py",
   "mimetype": "text/x-python",
   "name": "python",
   "nbconvert_exporter": "python",
   "pygments_lexer": "ipython3",
   "version": "3.9.7"
  }
 },
 "nbformat": 4,
 "nbformat_minor": 5
}
