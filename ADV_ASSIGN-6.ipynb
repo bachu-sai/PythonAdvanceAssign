{
 "cells": [
  {
   "cell_type": "code",
   "execution_count": null,
   "id": "104b130c",
   "metadata": {},
   "outputs": [],
   "source": [
    "1. Describe three applications for exception processing.\n",
    "\n",
    "Exception processing is critical to catch errors and exceptions during execution of a service rule so that they can be communicated to the client application cleanly. Best practice requires you to configure clipboard property values to communicate service errors to the calling application.\n",
    "The core advantage of exception handling is to maintain the normal flow of the application. An exception normally disrupts the normal flow of the application; that is why we need to handle exceptions."
   ]
  },
  {
   "cell_type": "code",
   "execution_count": null,
   "id": "7cb9350e",
   "metadata": {},
   "outputs": [],
   "source": [
    "2. What happens if you do not do something extra to treat an exception?\n",
    "\n",
    "When an exception occurred, if you do not handle it, the program terminates abruptly and the code past the line that caused the exception will not get executed."
   ]
  },
  {
   "cell_type": "code",
   "execution_count": null,
   "id": "2091572f",
   "metadata": {},
   "outputs": [],
   "source": [
    "3. What are your options for recovering from an exception in your script?\n",
    "\n",
    "Prefer Specific Exceptions,Catch the Most Specific Exception First,Throw Exceptions With Descriptive Messages"
   ]
  },
  {
   "cell_type": "code",
   "execution_count": null,
   "id": "05482efe",
   "metadata": {},
   "outputs": [],
   "source": [
    "4. Describe two methods for triggering exceptions in your script.\n",
    "\n",
    "Try – This method catches the exceptions raised by the program.\n",
    "Raise – Triggers an exception manually using custom exceptions."
   ]
  },
  {
   "cell_type": "code",
   "execution_count": null,
   "id": "2d010acd",
   "metadata": {},
   "outputs": [],
   "source": [
    "5. Identify two methods for specifying actions to be executed at termination time, regardless of\n",
    "whether or not an exception exists.\n",
    "\n",
    "A finally block always executes, regardless of whether an exception is thrown."
   ]
  }
 ],
 "metadata": {
  "kernelspec": {
   "display_name": "Python 3 (ipykernel)",
   "language": "python",
   "name": "python3"
  },
  "language_info": {
   "codemirror_mode": {
    "name": "ipython",
    "version": 3
   },
   "file_extension": ".py",
   "mimetype": "text/x-python",
   "name": "python",
   "nbconvert_exporter": "python",
   "pygments_lexer": "ipython3",
   "version": "3.9.7"
  }
 },
 "nbformat": 4,
 "nbformat_minor": 5
}
