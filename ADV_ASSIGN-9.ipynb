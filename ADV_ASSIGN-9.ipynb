{
 "cells": [
  {
   "cell_type": "code",
   "execution_count": null,
   "id": "9a2edbba",
   "metadata": {},
   "outputs": [],
   "source": [
    "Q1. In Python 3.X, what are the names and functions of string object types?\n",
    "\n",
    "rstrip()\tReturns a right trim version of the string\n",
    "split()\tSplits the string at the specified separator, and returns a list\n",
    "splitlines()\tSplits the string at line breaks and returns a list\n",
    "startswith()\tReturns true if the string starts with the specified value"
   ]
  },
  {
   "cell_type": "code",
   "execution_count": null,
   "id": "3be404a8",
   "metadata": {},
   "outputs": [],
   "source": [
    "Q2. How do the string forms in Python 3.X vary in terms of operations?\n",
    "\n",
    "+\tConcatenation - Adds values on either side of the operator\n",
    "*\tRepetition - Creates new strings, concatenating multiple copies of the same string\n",
    "[]\tSlice - Gives the character from the given index\n",
    "[ : ]\tRange Slice - Gives the characters from the given range"
   ]
  },
  {
   "cell_type": "code",
   "execution_count": null,
   "id": "7dd0fcd5",
   "metadata": {},
   "outputs": [],
   "source": [
    "Q3. In 3.X, how do you put non-ASCII Unicode characters in a string?\n",
    "\n",
    "In order to use non-ASCII characters, Python requires explicit encoding and decoding of strings into Unicode. In IBM® SPSS® Modeler, Python scripts are assumed to be encoded in UTF-8, which is a standard Unicode encoding that supports non-ASCII characters."
   ]
  },
  {
   "cell_type": "code",
   "execution_count": null,
   "id": "3cc90be3",
   "metadata": {},
   "outputs": [],
   "source": [
    "Q4. In Python 3.X, what are the key differences between text-mode and binary-mode files?\n",
    "\n",
    "Text files are used to store data more user friendly. Binary files are used to store data more compactly. In the text file, a special character whose ASCII value is 26 inserted after the last character to mark the end of file. In the binary file no such character is presen\n"
   ]
  },
  {
   "cell_type": "code",
   "execution_count": null,
   "id": "a1c05997",
   "metadata": {},
   "outputs": [],
   "source": [
    "Q5. How can you interpret a Unicode text file containing text encoded in a different encoding than your platforms default?\n",
    "\n",
    "this is the default error handler that just raises UnicodeDecodeError for decoding problems and UnicodeEncodeError for encoding problems."
   ]
  },
  {
   "cell_type": "code",
   "execution_count": null,
   "id": "da85021d",
   "metadata": {},
   "outputs": [],
   "source": [
    "Q6. What is the best way to make a Unicode text file in a particular encoding format?\n",
    "\n",
    "Call str.encode(encoding) with encoding set to \"utf8\" to encode str."
   ]
  },
  {
   "cell_type": "code",
   "execution_count": null,
   "id": "1687a8ab",
   "metadata": {},
   "outputs": [],
   "source": [
    "Q7. What qualifies ASCII text as a form of Unicode text?\n",
    "\n",
    "The first 128 Unicode code points represent the ASCII characters, which means that any ASCII text is also a UTF-8 text. "
   ]
  },
  {
   "cell_type": "code",
   "execution_count": null,
   "id": "1afc0926",
   "metadata": {},
   "outputs": [],
   "source": [
    "Q8. How much of an effect does the change in string types in Python 3.X have on your code?\n",
    "\n",
    "Strings can be converted to numbers by using the int() and float() methods. If your string does not have decimal places, you will most likely want to convert it to an integer by using the int() method."
   ]
  },
  {
   "cell_type": "code",
   "execution_count": null,
   "id": "32624d9f",
   "metadata": {},
   "outputs": [],
   "source": []
  }
 ],
 "metadata": {
  "kernelspec": {
   "display_name": "Python 3 (ipykernel)",
   "language": "python",
   "name": "python3"
  },
  "language_info": {
   "codemirror_mode": {
    "name": "ipython",
    "version": 3
   },
   "file_extension": ".py",
   "mimetype": "text/x-python",
   "name": "python",
   "nbconvert_exporter": "python",
   "pygments_lexer": "ipython3",
   "version": "3.9.7"
  }
 },
 "nbformat": 4,
 "nbformat_minor": 5
}
